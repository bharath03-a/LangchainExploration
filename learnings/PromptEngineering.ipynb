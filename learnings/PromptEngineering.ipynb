{
 "cells": [
  {
   "cell_type": "markdown",
   "metadata": {},
   "source": [
    "## PromptEngineering"
   ]
  },
  {
   "cell_type": "code",
   "execution_count": 2,
   "metadata": {},
   "outputs": [],
   "source": [
    "from langchain import PromptTemplate\n",
    "\n",
    "# The process of prompt Engineering is \n",
    "# Persona\n",
    "# Task\n",
    "# Constraints\n",
    "# Conditions\n",
    "# Goal\n",
    "# Format\n",
    "# Reasoning\n",
    "\n",
    "demo_template = '''\n",
    "I want you to act as a financial advisor for a client who is looking to invest in the stock market.\n",
    "In an easy way, explain he basics of {financial_concept} to a beginner.\n",
    "'''"
   ]
  },
  {
   "cell_type": "code",
   "execution_count": 4,
   "metadata": {},
   "outputs": [],
   "source": [
    "initial_prompt = PromptTemplate(input_variable = ['financial_concept'],\n",
    "                                template = demo_template)"
   ]
  },
  {
   "cell_type": "code",
   "execution_count": 5,
   "metadata": {},
   "outputs": [
    {
     "data": {
      "text/plain": [
       "'\\nI want you to act as a financial advisor for a client who is looking to invest in the stock market.\\nIn an easy way, explain he basics of stock market to a beginner.\\n'"
      ]
     },
     "execution_count": 5,
     "metadata": {},
     "output_type": "execute_result"
    }
   ],
   "source": [
    "initial_prompt.format(financial_concept = 'stock market')"
   ]
  },
  {
   "cell_type": "code",
   "execution_count": 7,
   "metadata": {},
   "outputs": [],
   "source": [
    "from langchain_ollama.llms import OllamaLLM\n",
    "from langchain.chains import LLMChain"
   ]
  },
  {
   "cell_type": "code",
   "execution_count": 8,
   "metadata": {},
   "outputs": [],
   "source": [
    "llm = OllamaLLM(\n",
    "    model = \"llama3.2:latest\",\n",
    "    temperature = 0.8\n",
    ")"
   ]
  },
  {
   "cell_type": "code",
   "execution_count": 10,
   "metadata": {},
   "outputs": [],
   "source": [
    "chain_1 = LLMChain(llm = llm, prompt = initial_prompt)"
   ]
  },
  {
   "cell_type": "code",
   "execution_count": 12,
   "metadata": {},
   "outputs": [
    {
     "data": {
      "text/plain": [
       "\"Congratulations on taking the first step towards investing in the stock market! As your financial advisor, I'm here to guide you through the basics.\\n\\n**What is the Stock Market?**\\n\\nThe stock market, also known as the equity market, is a platform where companies raise capital by issuing shares of stock to the public. These shares represent ownership in the company and give investors a claim on its assets and profits.\\n\\n**How Does it Work?**\\n\\nImagine you own a small business, and you want to grow your company but need more money. You can sell shares of your company to others, who become part-owners of your business. In return, they pay you a portion of the profits. This way, the owners (shareholders) receive a share of the company's success.\\n\\nThe stock market works similarly:\\n\\n1. Companies issue stocks to raise capital.\\n2. Investors buy these shares and become part-owners of the company.\\n3. The value of the shares can fluctuate based on various factors like the company's performance, industry trends, and overall market conditions.\\n4. Shareholders can sell their shares at a predetermined price or hold onto them in hopes of selling them for a higher price later.\\n\\n**Types of Stocks**\\n\\nThere are two main types of stocks:\\n\\n1. **Common Stock**: This represents ownership in a company and gives shareholders voting rights.\\n2. **Preferred Stock**: This has a higher claim on assets and dividends than common stock, but typically doesn't come with voting rights.\\n\\n**Key Terms to Know**\\n\\n1. **Brokerage Account**: An account held by an individual or institution that buys and sells securities (like stocks).\\n2. **Portfolio**: A collection of investments held together.\\n3. **Risk Tolerance**: Your ability to handle market fluctuations and losses.\\n4. **Diversification**: Spreading your investments across various asset classes, sectors, and geographic regions to minimize risk.\\n\\n**Getting Started**\\n\\nTo start investing in the stock market:\\n\\n1. Open a brokerage account with a reputable online broker (e.g., Fidelity, Robinhood, Vanguard).\\n2. Fund your account with money to invest.\\n3. Choose your investment strategy: growth-oriented or income-focused.\\n4. Research and select stocks that align with your goals and risk tolerance.\\n\\n**Next Steps**\\n\\nNow that you have a basic understanding of the stock market, let's discuss:\\n\\n1. **Diversification**: How can we create a balanced portfolio for you?\\n2. **Risk Tolerance**: What level of risk are you comfortable with?\\n3. **Investment Strategy**: What are your goals and investment horizon?\\n\\nFeel free to ask me any questions or share your concerns. I'm here to guide you through this exciting journey!\""
      ]
     },
     "execution_count": 12,
     "metadata": {},
     "output_type": "execute_result"
    }
   ],
   "source": [
    "chain_1.run(\"stock market\")"
   ]
  },
  {
   "cell_type": "code",
   "execution_count": 25,
   "metadata": {},
   "outputs": [
    {
     "data": {
      "text/plain": [
       "'\\nIn an easy way translate the following text from How are you? into French. Just give the translation in a respectful and professional manner.\\n'"
      ]
     },
     "execution_count": 25,
     "metadata": {},
     "output_type": "execute_result"
    }
   ],
   "source": [
    "# Language Translation\n",
    "\n",
    "lang_template = '''\n",
    "In an easy way translate the following text from {sentence} into {target_language}. Just give the translation in a respectful and professional manner.\n",
    "'''\n",
    "\n",
    "lang_prompt = PromptTemplate(input_variable = ['sentence', 'target_language'],\n",
    "                             template = lang_template)\n",
    "\n",
    "lang_prompt.format(sentence = 'How are you?', target_language = 'French')"
   ]
  },
  {
   "cell_type": "code",
   "execution_count": 26,
   "metadata": {},
   "outputs": [],
   "source": [
    "chain_2 = LLMChain(llm = llm, prompt = lang_prompt)"
   ]
  },
  {
   "cell_type": "code",
   "execution_count": 27,
   "metadata": {},
   "outputs": [
    {
     "data": {
      "text/plain": [
       "{'sentence': 'How are you?',\n",
       " 'target_language': 'Spanish',\n",
       " 'text': '\"How are you?\" translates to \"¿Cómo estás?\"\\n\\nPlease note that this is a common greeting used in many countries, but it\\'s always best to learn regional variations and expressions for more effective communication.\\n\\nAlternatively, a more formal way of saying \"How are you?\" in Spanish would be:\\n\\n\"¿Está bien?\"\\n\\nOr, if you want to be more friendly and informal:\\n\\n\"Hola, ¿cómo estás hoy?\"\\n\\nThis second option is commonly used among friends or acquaintances.'}"
      ]
     },
     "execution_count": 27,
     "metadata": {},
     "output_type": "execute_result"
    }
   ],
   "source": [
    "chain_2({ \"sentence\": \"How are you?\", \"target_language\" : \"Spanish\"})"
   ]
  },
  {
   "cell_type": "code",
   "execution_count": 28,
   "metadata": {},
   "outputs": [],
   "source": [
    "from langchain import FewShotPromptTemplate"
   ]
  },
  {
   "cell_type": "code",
   "execution_count": 37,
   "metadata": {},
   "outputs": [],
   "source": [
    "examples = [\n",
    "    {\"word\" : \"happy\", \"antonym\" : \"sad\"},\n",
    "    {\"word\" : \"hot\", \"antonym\" : \"cold\"},\n",
    "    {\"word\" : \"good\", \"antonym\" : \"bad\"},\n",
    "]\n",
    "\n",
    "example_format_template = '''word : {word}\n",
    "antonym : {antonym}\n",
    "'''\n",
    "\n",
    "example_prompt = PromptTemplate(\n",
    "    input_variable = ['word', 'antonym'],\n",
    "    template = example_format_template\n",
    ")"
   ]
  },
  {
   "cell_type": "code",
   "execution_count": 41,
   "metadata": {},
   "outputs": [],
   "source": [
    "few_shot_template = FewShotPromptTemplate(\n",
    "    examples = examples,\n",
    "    example_prompt = example_prompt,\n",
    "    prefix = \"Give the antonym of every input\\n\",\n",
    "    suffix = \"Word: {input}\\nAntonym:\",\n",
    "    input_variables = ['input'],\n",
    "    example_separator = '\\n',\n",
    ")\n"
   ]
  },
  {
   "cell_type": "code",
   "execution_count": 42,
   "metadata": {},
   "outputs": [
    {
     "name": "stdout",
     "output_type": "stream",
     "text": [
      "Give the antonym of every input\n",
      "\n",
      "word : happy\n",
      "antonym : sad\n",
      "\n",
      "word : hot\n",
      "antonym : cold\n",
      "\n",
      "word : good\n",
      "antonym : bad\n",
      "\n",
      "Word: big\n",
      "Antonym:\n"
     ]
    }
   ],
   "source": [
    "print(few_shot_template.format(input = 'big'))"
   ]
  },
  {
   "cell_type": "code",
   "execution_count": 43,
   "metadata": {},
   "outputs": [
    {
     "data": {
      "text/plain": [
       "{'input': 'big', 'text': 'The antonym for \"big\" is \"small\".'}"
      ]
     },
     "execution_count": 43,
     "metadata": {},
     "output_type": "execute_result"
    }
   ],
   "source": [
    "chain_3 = LLMChain(llm = llm, prompt = few_shot_template)\n",
    "\n",
    "chain_3('big')"
   ]
  },
  {
   "cell_type": "markdown",
   "metadata": {},
   "source": [
    "## PDF Query using Lancgchain"
   ]
  },
  {
   "cell_type": "code",
   "execution_count": 45,
   "metadata": {},
   "outputs": [],
   "source": [
    "%%capture\n",
    "!pip install langchain\n",
    "!pip install PyPDF2\n",
    "!pip install faiss-cpu\n",
    "!pip install tiktoken"
   ]
  },
  {
   "cell_type": "code",
   "execution_count": 46,
   "metadata": {},
   "outputs": [],
   "source": [
    "from PyPDF2 import PdfReader\n",
    "from langchain_ollama.embeddings import OllamaEmbeddings\n",
    "from langchain.text_splitter import CharacterTextSplitter\n",
    "from langchain.vectorstores import FAISS"
   ]
  },
  {
   "cell_type": "code",
   "execution_count": 47,
   "metadata": {},
   "outputs": [],
   "source": [
    "pdfreader = PdfReader(\"../files/budget_speech.pdf\")"
   ]
  },
  {
   "cell_type": "code",
   "execution_count": 48,
   "metadata": {},
   "outputs": [],
   "source": [
    "from typing_extensions import Concatenate\n",
    "\n",
    "raw_txt = \"\"\n",
    "\n",
    "for i, page in enumerate(pdfreader.pages):\n",
    "    content = page.extract_text()\n",
    "    if content:\n",
    "        raw_txt += page.extract_text()"
   ]
  },
  {
   "cell_type": "code",
   "execution_count": 49,
   "metadata": {},
   "outputs": [],
   "source": [
    "text_splitter = CharacterTextSplitter(\n",
    "    separator = \"\\n\",\n",
    "    chunk_size = 800,\n",
    "    chunk_overlap = 200,\n",
    "    length_function = len\n",
    ")\n",
    "\n",
    "texts = text_splitter.split_text(raw_txt)"
   ]
  },
  {
   "cell_type": "code",
   "execution_count": 50,
   "metadata": {},
   "outputs": [
    {
     "data": {
      "text/plain": [
       "160"
      ]
     },
     "execution_count": 50,
     "metadata": {},
     "output_type": "execute_result"
    }
   ],
   "source": [
    "len(texts)"
   ]
  },
  {
   "cell_type": "code",
   "execution_count": 51,
   "metadata": {},
   "outputs": [],
   "source": [
    "# embeddings\n",
    "embeddings = OllamaEmbeddings(model = \"llama3.2:latest\")"
   ]
  },
  {
   "cell_type": "code",
   "execution_count": 53,
   "metadata": {},
   "outputs": [],
   "source": [
    "doc_search = FAISS.from_texts(texts = texts, embedding = embeddings)"
   ]
  },
  {
   "cell_type": "code",
   "execution_count": 54,
   "metadata": {},
   "outputs": [],
   "source": [
    "from langchain.chains.question_answering import load_qa_chain"
   ]
  },
  {
   "cell_type": "code",
   "execution_count": 89,
   "metadata": {},
   "outputs": [],
   "source": [
    "chain = load_qa_chain(OllamaLLM(model = \"llama3.2:latest\"), chain_type=\"stuff\")"
   ]
  },
  {
   "cell_type": "code",
   "execution_count": 94,
   "metadata": {},
   "outputs": [],
   "source": [
    "query = \"Which financial year's budget speech is this?\"\n",
    "docs = doc_search.similarity_search(query = query)"
   ]
  },
  {
   "cell_type": "code",
   "execution_count": 95,
   "metadata": {},
   "outputs": [
    {
     "name": "stdout",
     "output_type": "stream",
     "text": [
      "Based on the provided context, it appears that the budget speech was for the 2024-25 fiscal year, as mentioned in B.6, where \"w.e.f. 1st August, 2024\" refers to the time limit modification for filing appeals before the Appellate Tribunal.\n"
     ]
    }
   ],
   "source": [
    "print(chain.run(input_documents = docs, question = query))"
   ]
  }
 ],
 "metadata": {
  "kernelspec": {
   "display_name": "applications",
   "language": "python",
   "name": "python3"
  },
  "language_info": {
   "codemirror_mode": {
    "name": "ipython",
    "version": 3
   },
   "file_extension": ".py",
   "mimetype": "text/x-python",
   "name": "python",
   "nbconvert_exporter": "python",
   "pygments_lexer": "ipython3",
   "version": "3.11.10"
  }
 },
 "nbformat": 4,
 "nbformat_minor": 2
}
